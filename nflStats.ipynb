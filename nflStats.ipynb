{
 "cells": [
  {
   "cell_type": "code",
   "execution_count": 1,
   "metadata": {},
   "outputs": [],
   "source": [
    "import requests\n",
    "import urllib.request\n",
    "import time\n",
    "from bs4 import BeautifulSoup\n",
    "import pandas as pd\n",
    "import csv"
   ]
  },
  {
   "cell_type": "code",
   "execution_count": 2,
   "metadata": {},
   "outputs": [],
   "source": [
    "url = 'https://www.giants.com/team/stats/'\n",
    "response = requests.get(url)"
   ]
  },
  {
   "cell_type": "code",
   "execution_count": 3,
   "metadata": {},
   "outputs": [
    {
     "output_type": "stream",
     "name": "stdout",
     "text": "Response: 200 https://www.giants.com/team/stats/\n"
    }
   ],
   "source": [
    "print(\"Response:\", response.status_code,response.url) #200 means it went through\n"
   ]
  },
  {
   "cell_type": "code",
   "execution_count": 4,
   "metadata": {
    "tags": [
     "outputPrepend"
    ]
   },
   "outputs": [],
   "source": [
    "giants_stats = BeautifulSoup(response.text,'html.parser')\n",
    "giants_stats_body = giants_stats.body\n",
    "nfl_div = giants_stats_body.find_all('div')\n",
    "giants_stats_body_main_content = giants_stats_body.find(id=\"main-content\")\n",
    "# print(giants_stats_body_main_content.prettify())"
   ]
  },
  {
   "cell_type": "code",
   "execution_count": 28,
   "metadata": {},
   "outputs": [],
   "source": [
    "offensive_passing_table = giants_stats_body_main_content.find(\"div\", {\"class\": \"nfl-o-teamstats\"})\n",
    "# print(offensive_passing_table.prettify())"
   ]
  },
  {
   "cell_type": "code",
   "execution_count": 6,
   "metadata": {},
   "outputs": [
    {
     "output_type": "stream",
     "name": "stdout",
     "text": "<thead>\n<tr>\n<th>Player</th>\n<th scope=\"col\">ATT</th>\n<th scope=\"col\">COMP</th>\n<th scope=\"col\">YDS</th>\n<th scope=\"col\">COMP%</th>\n<th scope=\"col\">YDS/ATT</th>\n<th scope=\"col\">TD</th>\n<th scope=\"col\">TD%</th>\n<th scope=\"col\">INT</th>\n<th scope=\"col\">INT%</th>\n<th scope=\"col\">LONG</th>\n<th scope=\"col\">SCK</th>\n<th scope=\"col\">SCK/LOST</th>\n<th scope=\"col\">RATE</th>\n</tr>\n</thead>\n"
    }
   ],
   "source": [
    "headers = offensive_passing_table.find('thead')\n",
    "print(headers)"
   ]
  },
  {
   "cell_type": "code",
   "execution_count": 7,
   "metadata": {},
   "outputs": [
    {
     "output_type": "stream",
     "name": "stdout",
     "text": "[<th>Player</th>, <th scope=\"col\">ATT</th>, <th scope=\"col\">COMP</th>, <th scope=\"col\">YDS</th>, <th scope=\"col\">COMP%</th>, <th scope=\"col\">YDS/ATT</th>, <th scope=\"col\">TD</th>, <th scope=\"col\">TD%</th>, <th scope=\"col\">INT</th>, <th scope=\"col\">INT%</th>, <th scope=\"col\">LONG</th>, <th scope=\"col\">SCK</th>, <th scope=\"col\">SCK/LOST</th>, <th scope=\"col\">RATE</th>]\n"
    }
   ],
   "source": [
    "clean_headers = headers.find_all('th')\n",
    "print(clean_headers)"
   ]
  },
  {
   "cell_type": "code",
   "execution_count": 8,
   "metadata": {},
   "outputs": [
    {
     "output_type": "stream",
     "name": "stdout",
     "text": "['Player', 'ATT', 'COMP', 'YDS', 'COMP%', 'YDS/ATT', 'TD', 'TD%', 'INT', 'INT%', 'LONG', 'SCK', 'SCK/LOST', 'RATE']\n"
    }
   ],
   "source": [
    "columnHeader = []\n",
    "\n",
    "for c in clean_headers:\n",
    "    columnHeader.append(c.text)\n",
    "\n",
    "print(columnHeader)"
   ]
  },
  {
   "cell_type": "code",
   "execution_count": 117,
   "metadata": {},
   "outputs": [
    {
     "output_type": "stream",
     "name": "stdout",
     "text": "<td class=\"sorter-lastname\">\n<div class=\"d3-o-media-object\">\n<a href=\"/team/players-roster/alex-tanney/\">\n<figure class=\"d3-o-media-object__figure\">\n<picture is-lazy=\"/t_lazy\"><!--[if IE 9]><video style=\"display: none; \"><![endif]--><source media=\"(min-width:1024px)\" srcset=\"https://static.clubs.nfl.com/image/private/t_thumb_squared/t_lazy/f_auto/giants/vfw4txeghdoarfkpottn 1x, https://static.clubs.nfl.com/image/private/t_thumb_squared_2x/t_lazy/f_auto/giants/vfw4txeghdoarfkpottn 2x, https://static.clubs.nfl.com/image/private/t_thumb_squared_3x/t_lazy/f_auto/giants/vfw4txeghdoarfkpottn\"/><source media=\"(min-width:768px)\" srcset=\"https://static.clubs.nfl.com/image/private/t_thumb_squared/t_lazy/f_auto/giants/vfw4txeghdoarfkpottn 1x, https://static.clubs.nfl.com/image/private/t_thumb_squared_2x/t_lazy/f_auto/giants/vfw4txeghdoarfkpottn 2x, https://static.clubs.nfl.com/image/private/t_thumb_squared_3x/t_lazy/f_auto/giants/vfw4txeghdoarfkpottn\"/><source srcset=\"https://static.clubs.nfl.com/image/private/t_thumb_squared/t_lazy/f_auto/giants/vfw4txeghdoarfkpottn 1x, https://static.clubs.nfl.com/image/private/t_thumb_squared_2x/t_lazy/f_auto/giants/vfw4txeghdoarfkpottn 2x, https://static.clubs.nfl.com/image/private/t_thumb_squared_3x/t_lazy/f_auto/giants/vfw4txeghdoarfkpottn\"/><!--[if IE 9]></video><![endif]--><img alt=\"Alex Tanney\" class=\"img-responsive\" src=\"https://static.clubs.nfl.com/image/private/t_thumb_squared/t_lazy/f_auto/giants/vfw4txeghdoarfkpottn\"/></picture>\n</figure>\n</a>\n<span class=\"nfl-o-roster__player-name\" data-name=\"Alex Tanney\"><a href=\"/team/players-roster/alex-tanney/\">Alex Tanney</a></span>\n</div>\n</td> \n\n\n\n\n<td>\n                        1                      </td> \n\n\n\n\n<td>\n                        1                      </td> \n\n\n\n\n<td>\n                        1                      </td> \n\n\n\n\n<td>\n                        100                      </td> \n\n\n\n\n<td>\n                        1                      </td> \n\n\n\n\n<td>\n                        0                      </td> \n\n\n\n\n<td>\n                        0                      </td> \n\n\n\n\n<td>\n                        0                      </td> \n\n\n\n\n<td>\n                        0                      </td> \n\n\n\n\n<td>\n                        1                      </td> \n\n\n\n\n<td>\n                        0                      </td> \n\n\n\n\n<td>\n                        0                      </td> \n\n\n\n\n<td>\n                        79.2                      </td> \n\n\n\n\n<td class=\"sorter-lastname\">\n<div class=\"d3-o-media-object\">\n<a href=\"/team/players-roster/eli-manning/\">\n<figure class=\"d3-o-media-object__figure\">\n<picture is-lazy=\"/t_lazy\"><!--[if IE 9]><video style=\"display: none; \"><![endif]--><source media=\"(min-width:1024px)\" srcset=\"https://static.clubs.nfl.com/image/private/t_thumb_squared/t_lazy/f_auto/giants/m5k30elwh61pyrym3zt4 1x, https://static.clubs.nfl.com/image/private/t_thumb_squared_2x/t_lazy/f_auto/giants/m5k30elwh61pyrym3zt4 2x, https://static.clubs.nfl.com/image/private/t_thumb_squared_3x/t_lazy/f_auto/giants/m5k30elwh61pyrym3zt4\"/><source media=\"(min-width:768px)\" srcset=\"https://static.clubs.nfl.com/image/private/t_thumb_squared/t_lazy/f_auto/giants/m5k30elwh61pyrym3zt4 1x, https://static.clubs.nfl.com/image/private/t_thumb_squared_2x/t_lazy/f_auto/giants/m5k30elwh61pyrym3zt4 2x, https://static.clubs.nfl.com/image/private/t_thumb_squared_3x/t_lazy/f_auto/giants/m5k30elwh61pyrym3zt4\"/><source srcset=\"https://static.clubs.nfl.com/image/private/t_thumb_squared/t_lazy/f_auto/giants/m5k30elwh61pyrym3zt4 1x, https://static.clubs.nfl.com/image/private/t_thumb_squared_2x/t_lazy/f_auto/giants/m5k30elwh61pyrym3zt4 2x, https://static.clubs.nfl.com/image/private/t_thumb_squared_3x/t_lazy/f_auto/giants/m5k30elwh61pyrym3zt4\"/><!--[if IE 9]></video><![endif]--><img alt=\"This is a 2018 photo of Eli Manning of the New York Giants NFL football team. This image reflects the New York Giants active roster as of June 11, 2018 when this image was taken. (AP Photo)\" class=\"img-responsive\" src=\"https://static.clubs.nfl.com/image/private/t_thumb_squared/t_lazy/f_auto/giants/m5k30elwh61pyrym3zt4\"/></picture>\n</figure>\n</a>\n<span class=\"nfl-o-roster__player-name\" data-name=\"Eli Manning\"><a href=\"/team/players-roster/eli-manning/\">Eli Manning</a></span>\n</div>\n</td> \n\n\n\n\n<td>\n                        147                      </td> \n\n\n\n\n<td>\n                        91                      </td> \n\n\n\n\n<td>\n                        1042                      </td> \n\n\n\n\n<td>\n                        61.9                      </td> \n\n\n\n\n<td>\n                        7.1                      </td> \n\n\n\n\n<td>\n                        6                      </td> \n\n\n\n\n<td>\n                        4.08                      </td> \n\n\n\n\n<td>\n                        5                      </td> \n\n\n\n\n<td>\n                        3.4                      </td> \n\n\n\n\n<td>\n                        55                      </td> \n\n\n\n\n<td>\n                        5                      </td> \n\n\n\n\n<td>\n                        44                      </td> \n\n\n\n\n<td>\n                        82.6                      </td> \n\n\n\n\n<td class=\"sorter-lastname\">\n<div class=\"d3-o-media-object\">\n<a href=\"/team/players-roster/daniel-jones/\">\n<figure class=\"d3-o-media-object__figure\">\n<picture is-lazy=\"/t_lazy\"><!--[if IE 9]><video style=\"display: none; \"><![endif]--><source media=\"(min-width:1024px)\" srcset=\"https://static.clubs.nfl.com/image/private/t_thumb_squared/t_lazy/f_auto/giants/v59trxgtfmixz7zt128a 1x, https://static.clubs.nfl.com/image/private/t_thumb_squared_2x/t_lazy/f_auto/giants/v59trxgtfmixz7zt128a 2x, https://static.clubs.nfl.com/image/private/t_thumb_squared_3x/t_lazy/f_auto/giants/v59trxgtfmixz7zt128a\"/><source media=\"(min-width:768px)\" srcset=\"https://static.clubs.nfl.com/image/private/t_thumb_squared/t_lazy/f_auto/giants/v59trxgtfmixz7zt128a 1x, https://static.clubs.nfl.com/image/private/t_thumb_squared_2x/t_lazy/f_auto/giants/v59trxgtfmixz7zt128a 2x, https://static.clubs.nfl.com/image/private/t_thumb_squared_3x/t_lazy/f_auto/giants/v59trxgtfmixz7zt128a\"/><source srcset=\"https://static.clubs.nfl.com/image/private/t_thumb_squared/t_lazy/f_auto/giants/v59trxgtfmixz7zt128a 1x, https://static.clubs.nfl.com/image/private/t_thumb_squared_2x/t_lazy/f_auto/giants/v59trxgtfmixz7zt128a 2x, https://static.clubs.nfl.com/image/private/t_thumb_squared_3x/t_lazy/f_auto/giants/v59trxgtfmixz7zt128a\"/><!--[if IE 9]></video><![endif]--><img alt=\"Daniel Jones\" class=\"img-responsive\" src=\"https://static.clubs.nfl.com/image/private/t_thumb_squared/t_lazy/f_auto/giants/v59trxgtfmixz7zt128a\"/></picture>\n</figure>\n</a>\n<span class=\"nfl-o-roster__player-name\" data-name=\"Daniel Jones\"><a href=\"/team/players-roster/daniel-jones/\">Daniel Jones</a></span>\n</div>\n</td> \n\n\n\n\n<td>\n                        459                      </td> \n\n\n\n\n<td>\n                        284                      </td> \n\n\n\n\n<td>\n                        3027                      </td> \n\n\n\n\n<td>\n                        61.87                      </td> \n\n\n\n\n<td>\n                        6.6                      </td> \n\n\n\n\n<td>\n                        24                      </td> \n\n\n\n\n<td>\n                        5.23                      </td> \n\n\n\n\n<td>\n                        12                      </td> \n\n\n\n\n<td>\n                        2.61                      </td> \n\n\n\n\n<td>\n                        75                      </td> \n\n\n\n\n<td>\n                        38                      </td> \n\n\n\n\n<td>\n                        295                      </td> \n\n\n\n\n<td>\n                        87.7                      </td> \n\n\n\n\n[<td class=\"sorter-lastname\">\n<div class=\"d3-o-media-object\">\n<a href=\"/team/players-roster/alex-tanney/\">\n<figure class=\"d3-o-media-object__figure\">\n<picture is-lazy=\"/t_lazy\"><!--[if IE 9]><video style=\"display: none; \"><![endif]--><source media=\"(min-width:1024px)\" srcset=\"https://static.clubs.nfl.com/image/private/t_thumb_squared/t_lazy/f_auto/giants/vfw4txeghdoarfkpottn 1x, https://static.clubs.nfl.com/image/private/t_thumb_squared_2x/t_lazy/f_auto/giants/vfw4txeghdoarfkpottn 2x, https://static.clubs.nfl.com/image/private/t_thumb_squared_3x/t_lazy/f_auto/giants/vfw4txeghdoarfkpottn\"/><source media=\"(min-width:768px)\" srcset=\"https://static.clubs.nfl.com/image/private/t_thumb_squared/t_lazy/f_auto/giants/vfw4txeghdoarfkpottn 1x, https://static.clubs.nfl.com/image/private/t_thumb_squared_2x/t_lazy/f_auto/giants/vfw4txeghdoarfkpottn 2x, https://static.clubs.nfl.com/image/private/t_thumb_squared_3x/t_lazy/f_auto/giants/vfw4txeghdoarfkpottn\"/><source srcset=\"https://static.clubs.nfl.com/image/private/t_thumb_squared/t_lazy/f_auto/giants/vfw4txeghdoarfkpottn 1x, https://static.clubs.nfl.com/image/private/t_thumb_squared_2x/t_lazy/f_auto/giants/vfw4txeghdoarfkpottn 2x, https://static.clubs.nfl.com/image/private/t_thumb_squared_3x/t_lazy/f_auto/giants/vfw4txeghdoarfkpottn\"/><!--[if IE 9]></video><![endif]--><img alt=\"Alex Tanney\" class=\"img-responsive\" src=\"https://static.clubs.nfl.com/image/private/t_thumb_squared/t_lazy/f_auto/giants/vfw4txeghdoarfkpottn\"/></picture>\n</figure>\n</a>\n<span class=\"nfl-o-roster__player-name\" data-name=\"Alex Tanney\"><a href=\"/team/players-roster/alex-tanney/\">Alex Tanney</a></span>\n</div>\n</td>, <td>\n                        1                      </td>, <td>\n                        1                      </td>, <td>\n                        1                      </td>, <td>\n                        100                      </td>, <td>\n                        1                      </td>, <td>\n                        0                      </td>, <td>\n                        0                      </td>, <td>\n                        0                      </td>, <td>\n                        0                      </td>, <td>\n                        1                      </td>, <td>\n                        0                      </td>, <td>\n                        0                      </td>, <td>\n                        79.2                      </td>, <td class=\"sorter-lastname\">\n<div class=\"d3-o-media-object\">\n<a href=\"/team/players-roster/eli-manning/\">\n<figure class=\"d3-o-media-object__figure\">\n<picture is-lazy=\"/t_lazy\"><!--[if IE 9]><video style=\"display: none; \"><![endif]--><source media=\"(min-width:1024px)\" srcset=\"https://static.clubs.nfl.com/image/private/t_thumb_squared/t_lazy/f_auto/giants/m5k30elwh61pyrym3zt4 1x, https://static.clubs.nfl.com/image/private/t_thumb_squared_2x/t_lazy/f_auto/giants/m5k30elwh61pyrym3zt4 2x, https://static.clubs.nfl.com/image/private/t_thumb_squared_3x/t_lazy/f_auto/giants/m5k30elwh61pyrym3zt4\"/><source media=\"(min-width:768px)\" srcset=\"https://static.clubs.nfl.com/image/private/t_thumb_squared/t_lazy/f_auto/giants/m5k30elwh61pyrym3zt4 1x, https://static.clubs.nfl.com/image/private/t_thumb_squared_2x/t_lazy/f_auto/giants/m5k30elwh61pyrym3zt4 2x, https://static.clubs.nfl.com/image/private/t_thumb_squared_3x/t_lazy/f_auto/giants/m5k30elwh61pyrym3zt4\"/><source srcset=\"https://static.clubs.nfl.com/image/private/t_thumb_squared/t_lazy/f_auto/giants/m5k30elwh61pyrym3zt4 1x, https://static.clubs.nfl.com/image/private/t_thumb_squared_2x/t_lazy/f_auto/giants/m5k30elwh61pyrym3zt4 2x, https://static.clubs.nfl.com/image/private/t_thumb_squared_3x/t_lazy/f_auto/giants/m5k30elwh61pyrym3zt4\"/><!--[if IE 9]></video><![endif]--><img alt=\"This is a 2018 photo of Eli Manning of the New York Giants NFL football team. This image reflects the New York Giants active roster as of June 11, 2018 when this image was taken. (AP Photo)\" class=\"img-responsive\" src=\"https://static.clubs.nfl.com/image/private/t_thumb_squared/t_lazy/f_auto/giants/m5k30elwh61pyrym3zt4\"/></picture>\n</figure>\n</a>\n<span class=\"nfl-o-roster__player-name\" data-name=\"Eli Manning\"><a href=\"/team/players-roster/eli-manning/\">Eli Manning</a></span>\n</div>\n</td>, <td>\n                        147                      </td>, <td>\n                        91                      </td>, <td>\n                        1042                      </td>, <td>\n                        61.9                      </td>, <td>\n                        7.1                      </td>, <td>\n                        6                      </td>, <td>\n                        4.08                      </td>, <td>\n                        5                      </td>, <td>\n                        3.4                      </td>, <td>\n                        55                      </td>, <td>\n                        5                      </td>, <td>\n                        44                      </td>, <td>\n                        82.6                      </td>, <td class=\"sorter-lastname\">\n<div class=\"d3-o-media-object\">\n<a href=\"/team/players-roster/daniel-jones/\">\n<figure class=\"d3-o-media-object__figure\">\n<picture is-lazy=\"/t_lazy\"><!--[if IE 9]><video style=\"display: none; \"><![endif]--><source media=\"(min-width:1024px)\" srcset=\"https://static.clubs.nfl.com/image/private/t_thumb_squared/t_lazy/f_auto/giants/v59trxgtfmixz7zt128a 1x, https://static.clubs.nfl.com/image/private/t_thumb_squared_2x/t_lazy/f_auto/giants/v59trxgtfmixz7zt128a 2x, https://static.clubs.nfl.com/image/private/t_thumb_squared_3x/t_lazy/f_auto/giants/v59trxgtfmixz7zt128a\"/><source media=\"(min-width:768px)\" srcset=\"https://static.clubs.nfl.com/image/private/t_thumb_squared/t_lazy/f_auto/giants/v59trxgtfmixz7zt128a 1x, https://static.clubs.nfl.com/image/private/t_thumb_squared_2x/t_lazy/f_auto/giants/v59trxgtfmixz7zt128a 2x, https://static.clubs.nfl.com/image/private/t_thumb_squared_3x/t_lazy/f_auto/giants/v59trxgtfmixz7zt128a\"/><source srcset=\"https://static.clubs.nfl.com/image/private/t_thumb_squared/t_lazy/f_auto/giants/v59trxgtfmixz7zt128a 1x, https://static.clubs.nfl.com/image/private/t_thumb_squared_2x/t_lazy/f_auto/giants/v59trxgtfmixz7zt128a 2x, https://static.clubs.nfl.com/image/private/t_thumb_squared_3x/t_lazy/f_auto/giants/v59trxgtfmixz7zt128a\"/><!--[if IE 9]></video><![endif]--><img alt=\"Daniel Jones\" class=\"img-responsive\" src=\"https://static.clubs.nfl.com/image/private/t_thumb_squared/t_lazy/f_auto/giants/v59trxgtfmixz7zt128a\"/></picture>\n</figure>\n</a>\n<span class=\"nfl-o-roster__player-name\" data-name=\"Daniel Jones\"><a href=\"/team/players-roster/daniel-jones/\">Daniel Jones</a></span>\n</div>\n</td>, <td>\n                        459                      </td>, <td>\n                        284                      </td>, <td>\n                        3027                      </td>, <td>\n                        61.87                      </td>, <td>\n                        6.6                      </td>, <td>\n                        24                      </td>, <td>\n                        5.23                      </td>, <td>\n                        12                      </td>, <td>\n                        2.61                      </td>, <td>\n                        75                      </td>, <td>\n                        38                      </td>, <td>\n                        295                      </td>, <td>\n                        87.7                      </td>]\n42\n"
    }
   ],
   "source": [
    "rowData = []\n",
    "\n",
    "# clean_offensive_passing_stats = offensive_passing_table.find('tr',{\"data-loadmore\":\"Passing\"})\n",
    "\n",
    "clean_offensive_passing_stats = offensive_passing_table.find_all('td')\n",
    "\n",
    "# for s in \n",
    "\n",
    "# rowData = [s.strip('\\n') for x in rowData]\n",
    "\n",
    "for i in range(0,len(clean_offensive_passing_stats)):\n",
    "    print(clean_offensive_passing_stats[i])\n",
    "    # clean_offensive_passing_stats = offensive_passing_table.find('td')\n",
    "    i = i + 1\n",
    "\n",
    "\n",
    "print(clean_offensive_passing_stats)\n",
    "print(i)\n",
    "# print(clean_offensive_passing_stats)\n",
    "\n",
    "# rowTable = clean_offensive_passing_stats.find_all('td')"
   ]
  },
  {
   "cell_type": "code",
   "execution_count": 10,
   "metadata": {},
   "outputs": [
    {
     "output_type": "execute_result",
     "data": {
      "text/plain": "[\"['Alex Tanney\\\\n\\\\n\\\\n\\\\n                        1                      \\\\n\\\\n                        1                      \\\\n\\\\n                        1                      \\\\n\\\\n                        100                      \\\\n\\\\n                        1                      \\\\n\\\\n                        0                      \\\\n\\\\n                        0                      \\\\n\\\\n                        0                      \\\\n\\\\n                        0                      \\\\n\\\\n                        1                      \\\\n\\\\n                        0                      \\\\n\\\\n                        0                      \\\\n\\\\n                        79.2                      ', 'Eli Manning\\\\n\\\\n\\\\n\\\\n                        147                      \\\\n\\\\n                        91                      \\\\n\\\\n                        1042                      \\\\n\\\\n                        61.9                      \\\\n\\\\n                        7.1                      \\\\n\\\\n                        6                      \\\\n\\\\n                        4.08                      \\\\n\\\\n                        5                      \\\\n\\\\n                        3.4                      \\\\n\\\\n                        55                      \\\\n\\\\n                        5                      \\\\n\\\\n                        44                      \\\\n\\\\n                        82.6                      ', 'Daniel Jones\\\\n\\\\n\\\\n\\\\n                        459                      \\\\n\\\\n                        284                      \\\\n\\\\n                        3027                      \\\\n\\\\n                        61.87                      \\\\n\\\\n                        6.6                      \\\\n\\\\n                        24                      \\\\n\\\\n                        5.23                      \\\\n\\\\n                        12                      \\\\n\\\\n                        2.61                      \\\\n\\\\n                        75                      \\\\n\\\\n                        38                      \\\\n\\\\n                        295                      \\\\n\\\\n                        87.7                      ']\"]"
     },
     "metadata": {},
     "execution_count": 10
    }
   ],
   "source": [
    "# rowData = []\n",
    "\n",
    "\n",
    "# for r in clean_offensive_passing_stats:\n",
    "#     rowData.append(r.text)\n",
    "#     # str(rowData).split\n",
    "\n",
    "\n",
    "# rowData = [r.strip('\\n') for r in rowData]\n",
    "# # clean_rowData = str(rowData).split('\\n')\n",
    "# clean_rowData\n",
    "\n",
    "\n",
    "# # print(rowData)\n",
    "# # print()\n",
    "# # rowData = [r.strip('\\n') for r in rowData]\n",
    "# # print()\n",
    "# # print(rowData)\n",
    "# # rowData = [r.strip('\\n\\n') for r in rowData]\n",
    "# # print()\n",
    "# # print(rowData)\n",
    "\n"
   ]
  },
  {
   "cell_type": "code",
   "execution_count": null,
   "metadata": {},
   "outputs": [],
   "source": []
  }
 ],
 "metadata": {
  "language_info": {
   "codemirror_mode": {
    "name": "ipython",
    "version": 3
   },
   "file_extension": ".py",
   "mimetype": "text/x-python",
   "name": "python",
   "nbconvert_exporter": "python",
   "pygments_lexer": "ipython3",
   "version": "3.8.3-final"
  },
  "orig_nbformat": 2,
  "kernelspec": {
   "name": "python38332bit1ca6974803c94f2bba027d3d2f5a92c6",
   "display_name": "Python 3.8.3 32-bit"
  }
 },
 "nbformat": 4,
 "nbformat_minor": 2
}