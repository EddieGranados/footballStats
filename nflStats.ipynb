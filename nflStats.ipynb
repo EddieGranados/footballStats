{
 "cells": [
  {
   "cell_type": "code",
   "execution_count": 1,
   "metadata": {},
   "outputs": [],
   "source": [
    "from bs4 import BeautifulSoup # Web Scrape\n",
    "import pandas as pd\n",
    "import numpy as np\n",
    "import requests # Makes HTTP requests\n",
    "# import time\n",
    "import re # Regular expression"
   ]
  },
  {
   "cell_type": "code",
   "execution_count": 2,
   "metadata": {
    "tags": []
   },
   "outputs": [
    {
     "output_type": "stream",
     "name": "stdout",
     "text": "Response: 200 https://www.giants.com/team/stats/\n"
    }
   ],
   "source": [
    "url = 'https://www.giants.com/team/stats/'\n",
    "response = requests.get(url)\n",
    "print(\"Response:\", response.status_code,response.url) #200 means it went through"
   ]
  },
  {
   "cell_type": "code",
   "execution_count": 3,
   "metadata": {
    "tags": []
   },
   "outputs": [],
   "source": [
    "giants_stats = BeautifulSoup(response.text,'html.parser')\n",
    "giants_stats_body = giants_stats.body\n",
    "nfl_div = giants_stats_body.find_all('div')\n",
    "giants_stats_body_main_content = giants_stats_body.find(id=\"main-content\")\n",
    "# print(giants_stats_body_main_content.prettify())"
   ]
  },
  {
   "cell_type": "code",
   "execution_count": 35,
   "metadata": {
    "tags": []
   },
   "outputs": [],
   "source": [
    "offensive_passing_table = giants_stats_body_main_content.find(\"div\", {\"class\": \"nfl-o-teamstats\"})\n",
    "# print(offensive_passing_table.prettify())"
   ]
  },
  {
   "cell_type": "code",
   "execution_count": 37,
   "metadata": {
    "tags": []
   },
   "outputs": [],
   "source": [
    "headers = offensive_passing_table.find('thead')\n",
    "# print(headers)"
   ]
  },
  {
   "cell_type": "code",
   "execution_count": 6,
   "metadata": {
    "tags": []
   },
   "outputs": [
    {
     "output_type": "stream",
     "name": "stdout",
     "text": "['Player', 'ATT', 'COMP', 'YDS', 'COMP%', 'YDS/ATT', 'TD', 'TD%', 'INT', 'INT%', 'LONG', 'SCK', 'SCK/LOST', 'RATE']\n"
    }
   ],
   "source": [
    "clean_headers = headers.find_all('th')\n",
    "passing_headers = [item.get_text() for item in clean_headers]\n",
    "\n",
    "print(passing_headers)"
   ]
  },
  {
   "cell_type": "code",
   "execution_count": 8,
   "metadata": {
    "tags": []
   },
   "outputs": [
    {
     "output_type": "stream",
     "name": "stdout",
     "text": "['Alex Tanney', 'Eli Manning', 'Daniel Jones']\n"
    }
   ],
   "source": [
    "\n",
    "offensive_passing_body = offensive_passing_table.find('tbody')\n",
    "# print(offensive_passing_body)\n",
    "\n",
    "\n",
    "clean_offensive_passer_name = offensive_passing_body.find_all('span',{\"class\":\"nfl-o-roster__player-name\"})\n",
    "# print(clean_offensive_passer_name)\n",
    "\n",
    "passer_name = [item.get_text() for item in clean_offensive_passer_name] \n",
    "print(passer_name)\n",
    "\n"
   ]
  },
  {
   "cell_type": "code",
   "execution_count": 40,
   "metadata": {
    "tags": []
   },
   "outputs": [
    {
     "output_type": "stream",
     "name": "stdout",
     "text": "\n['1', '1', '1', '100', '1', '0', '0', '0', '0', '1', '0', '0', '79.2', '147', '91', '1042', '61.9', '7.1', '6', '4.08', '5', '3.4', '55', '5', '44', '82.6', '459', '284', '3027', '61.87', '6.6', '24', '5.23', '12', '2.61', '75', '38', '295', '87.7']\n"
    }
   ],
   "source": [
    "\n",
    "clean_offensive_passer_stats = [item.get_text() for item in offensive_passing_body.find_all('td')]\n",
    "# print(clean_offensive_passer_stats)\n",
    "\n",
    "clean_offensive_passer_stats = [str(item).replace(' ','') for item in clean_offensive_passer_stats]\n",
    "# print(clean_offensive_passer_stats)\n",
    "\n",
    "pattern = re.compile(r'[\\d{0,6}]*|[\\d{0,6}\\d{0,6}\\.\\d{0,6}]*')\n",
    "matches = pattern.findall(str(clean_offensive_passer_stats))\n",
    "# print(matches)\n",
    "\n",
    "clean_matches = []\n",
    "\n",
    "for match in matches:\n",
    "    if match == '':\n",
    "        continue\n",
    "    else:\n",
    "        clean_matches.append(match)\n",
    "\n",
    "clean_matches = [str(item).replace(',',' ') for item in clean_matches]\n",
    "\n",
    "# clean_matches = [str(item).split('\\n') for item in clean_matches]\n",
    "# print(clean_matches)\n",
    "\n",
    "\n",
    "\n",
    "\n",
    "counter = 0\n",
    "counter1 = 1\n",
    "counter2 = -1\n",
    "counter4 = 0 \n",
    "\n",
    "\n",
    "for item in clean_matches:\n",
    "    if '.' in item:\n",
    "        rowData = clean_matches[counter2]+clean_matches[counter]\n",
    "        clean_matches.pop(counter)\n",
    "        clean_matches.pop(counter2)\n",
    "        clean_matches.insert(counter,rowData)\n",
    "    if item == ' ':\n",
    "        clean_matches.pop(counter)\n",
    "        \n",
    "    counter = counter + 1\n",
    "    counter1 = counter1 + 1\n",
    "    counter2 = counter2 + 1\n",
    "\n",
    "for item in clean_matches:\n",
    "    if item == ' ':\n",
    "        clean_matches.pop(counter4)\n",
    "    counter4 = counter4 + 1\n",
    "\n",
    "# print()\n",
    "# print(clean_matches)\n",
    "\n",
    "\n",
    "passing_data = clean_matches\n",
    "\n",
    "print(passing_data)"
   ]
  },
  {
   "cell_type": "code",
   "execution_count": 41,
   "metadata": {
    "tags": []
   },
   "outputs": [
    {
     "output_type": "stream",
     "name": "stdout",
     "text": "[['Alex Tanney', '1', '1', '1', '100', '1', '0', '0', '0', '0', '1', '0', '0', '79.2'], ['Eli Manning', '147', '91', '1042', '61.9', '7.1', '6', '4.08', '5', '3.4', '55', '5', '44', '82.6'], ['Daniel Jones', '459', '284', '3027', '61.87', '6.6', '24', '5.23', '12', '2.61', '75', '38', '295', '87.7']]\n"
    }
   ],
   "source": [
    "B = np.zeros((len(passer_name),len(passing_headers)))\n",
    "count = 0\n",
    "\n",
    "B = B.astype('str')\n",
    "B = B.tolist()\n",
    "\n",
    "for i in range(0,len(passer_name)):\n",
    "    for j in range(1,len(passing_headers)):\n",
    "        B[i][j] = passing_data[count]\n",
    "        B[i][0] = passer_name[i]\n",
    "        count = count + 1 \n",
    "\n",
    "\n",
    "\n",
    "print(B)\n",
    "\n",
    "   "
   ]
  },
  {
   "cell_type": "code",
   "execution_count": 42,
   "metadata": {},
   "outputs": [
    {
     "output_type": "execute_result",
     "data": {
      "text/plain": "         Player  ATT COMP   YDS  COMP% YDS/ATT  TD   TD% INT  INT% LONG SCK  \\\n0   Alex Tanney    1    1     1    100       1   0     0   0     0    1   0   \n1   Eli Manning  147   91  1042   61.9     7.1   6  4.08   5   3.4   55   5   \n2  Daniel Jones  459  284  3027  61.87     6.6  24  5.23  12  2.61   75  38   \n\n  SCK/LOST  RATE  \n0        0  79.2  \n1       44  82.6  \n2      295  87.7  ",
      "text/html": "<div>\n<style scoped>\n    .dataframe tbody tr th:only-of-type {\n        vertical-align: middle;\n    }\n\n    .dataframe tbody tr th {\n        vertical-align: top;\n    }\n\n    .dataframe thead th {\n        text-align: right;\n    }\n</style>\n<table border=\"1\" class=\"dataframe\">\n  <thead>\n    <tr style=\"text-align: right;\">\n      <th></th>\n      <th>Player</th>\n      <th>ATT</th>\n      <th>COMP</th>\n      <th>YDS</th>\n      <th>COMP%</th>\n      <th>YDS/ATT</th>\n      <th>TD</th>\n      <th>TD%</th>\n      <th>INT</th>\n      <th>INT%</th>\n      <th>LONG</th>\n      <th>SCK</th>\n      <th>SCK/LOST</th>\n      <th>RATE</th>\n    </tr>\n  </thead>\n  <tbody>\n    <tr>\n      <th>0</th>\n      <td>Alex Tanney</td>\n      <td>1</td>\n      <td>1</td>\n      <td>1</td>\n      <td>100</td>\n      <td>1</td>\n      <td>0</td>\n      <td>0</td>\n      <td>0</td>\n      <td>0</td>\n      <td>1</td>\n      <td>0</td>\n      <td>0</td>\n      <td>79.2</td>\n    </tr>\n    <tr>\n      <th>1</th>\n      <td>Eli Manning</td>\n      <td>147</td>\n      <td>91</td>\n      <td>1042</td>\n      <td>61.9</td>\n      <td>7.1</td>\n      <td>6</td>\n      <td>4.08</td>\n      <td>5</td>\n      <td>3.4</td>\n      <td>55</td>\n      <td>5</td>\n      <td>44</td>\n      <td>82.6</td>\n    </tr>\n    <tr>\n      <th>2</th>\n      <td>Daniel Jones</td>\n      <td>459</td>\n      <td>284</td>\n      <td>3027</td>\n      <td>61.87</td>\n      <td>6.6</td>\n      <td>24</td>\n      <td>5.23</td>\n      <td>12</td>\n      <td>2.61</td>\n      <td>75</td>\n      <td>38</td>\n      <td>295</td>\n      <td>87.7</td>\n    </tr>\n  </tbody>\n</table>\n</div>"
     },
     "metadata": {},
     "execution_count": 42
    }
   ],
   "source": [
    "df = pd.DataFrame(B, columns = passing_headers)\n",
    "\n",
    "df"
   ]
  }
 ],
 "metadata": {
  "language_info": {
   "codemirror_mode": {
    "name": "ipython",
    "version": 3
   },
   "file_extension": ".py",
   "mimetype": "text/x-python",
   "name": "python",
   "nbconvert_exporter": "python",
   "pygments_lexer": "ipython3",
   "version": "3.8.3-final"
  },
  "orig_nbformat": 2,
  "kernelspec": {
   "name": "python38332bit1ca6974803c94f2bba027d3d2f5a92c6",
   "display_name": "Python 3.8.3 32-bit"
  }
 },
 "nbformat": 4,
 "nbformat_minor": 2
}