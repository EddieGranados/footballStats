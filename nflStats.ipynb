{
 "cells": [
  {
   "cell_type": "code",
   "execution_count": 1,
   "metadata": {},
   "outputs": [],
   "source": [
    "import requests\n",
    "import urllib.request\n",
    "import time\n",
    "from bs4 import BeautifulSoup\n",
    "import pandas as pd\n",
    "import csv"
   ]
  },
  {
   "cell_type": "code",
   "execution_count": 2,
   "metadata": {},
   "outputs": [],
   "source": [
    "url = 'https://www.giants.com/team/stats/'\n",
    "response = requests.get(url)"
   ]
  },
  {
   "cell_type": "code",
   "execution_count": 3,
   "metadata": {},
   "outputs": [
    {
     "output_type": "stream",
     "name": "stdout",
     "text": "Response: 200 https://www.giants.com/team/stats/\n"
    }
   ],
   "source": [
    "print(\"Response:\", response.status_code,response.url) #200 means it went through\n"
   ]
  },
  {
   "cell_type": "code",
   "execution_count": 4,
   "metadata": {
    "tags": [
     "outputPrepend"
    ]
   },
   "outputs": [],
   "source": [
    "giants_stats = BeautifulSoup(response.text,'html.parser')\n",
    "giants_stats_body = giants_stats.body\n",
    "nfl_div = giants_stats_body.find_all('div')\n",
    "giants_stats_body_main_content = giants_stats_body.find(id=\"main-content\")\n",
    "# print(giants_stats_body_main_content.prettify())"
   ]
  },
  {
   "cell_type": "code",
   "execution_count": 5,
   "metadata": {},
   "outputs": [],
   "source": [
    "offensive_passing_table = giants_stats_body_main_content.find(\"div\", {\"class\": \"nfl-o-teamstats\"})\n",
    "# print(offensive_passing_table.prettify())"
   ]
  },
  {
   "cell_type": "code",
   "execution_count": 6,
   "metadata": {},
   "outputs": [
    {
     "output_type": "stream",
     "name": "stdout",
     "text": "<thead>\n<tr>\n<th>Player</th>\n<th scope=\"col\">ATT</th>\n<th scope=\"col\">COMP</th>\n<th scope=\"col\">YDS</th>\n<th scope=\"col\">COMP%</th>\n<th scope=\"col\">YDS/ATT</th>\n<th scope=\"col\">TD</th>\n<th scope=\"col\">TD%</th>\n<th scope=\"col\">INT</th>\n<th scope=\"col\">INT%</th>\n<th scope=\"col\">LONG</th>\n<th scope=\"col\">SCK</th>\n<th scope=\"col\">SCK/LOST</th>\n<th scope=\"col\">RATE</th>\n</tr>\n</thead>\n"
    }
   ],
   "source": [
    "headers = offensive_passing_table.find('thead')\n",
    "print(headers)"
   ]
  },
  {
   "cell_type": "code",
   "execution_count": 7,
   "metadata": {},
   "outputs": [
    {
     "output_type": "stream",
     "name": "stdout",
     "text": "[<th>Player</th>, <th scope=\"col\">ATT</th>, <th scope=\"col\">COMP</th>, <th scope=\"col\">YDS</th>, <th scope=\"col\">COMP%</th>, <th scope=\"col\">YDS/ATT</th>, <th scope=\"col\">TD</th>, <th scope=\"col\">TD%</th>, <th scope=\"col\">INT</th>, <th scope=\"col\">INT%</th>, <th scope=\"col\">LONG</th>, <th scope=\"col\">SCK</th>, <th scope=\"col\">SCK/LOST</th>, <th scope=\"col\">RATE</th>]\n"
    }
   ],
   "source": [
    "clean_headers = headers.find_all('th')\n",
    "print(clean_headers)"
   ]
  },
  {
   "cell_type": "code",
   "execution_count": 8,
   "metadata": {},
   "outputs": [
    {
     "output_type": "stream",
     "name": "stdout",
     "text": "['Player', 'ATT', 'COMP', 'YDS', 'COMP%', 'YDS/ATT', 'TD', 'TD%', 'INT', 'INT%', 'LONG', 'SCK', 'SCK/LOST', 'RATE']\n"
    }
   ],
   "source": [
    "columnHeader = []\n",
    "\n",
    "for c in clean_headers:\n",
    "    columnHeader.append(c.text)\n",
    "\n",
    "print(columnHeader)"
   ]
  },
  {
   "cell_type": "code",
   "execution_count": 9,
   "metadata": {},
   "outputs": [],
   "source": [
    "clean_offensive_passing_stats = offensive_passing_table.find_all('tr',{\"data-loadmore\":\"Passing\"})\n",
    "\n",
    "# clean_offensive_passing_stats\n",
    "\n",
    "# rowTable = clean_offensive_passing_stats.find('td')"
   ]
  },
  {
   "cell_type": "code",
   "execution_count": 10,
   "metadata": {},
   "outputs": [],
   "source": [
    "rowData = []\n",
    "\n",
    "\n",
    "for r in clean_offensive_passing_stats:\n",
    "    rowData.append(r.text)\n",
    "    # str(rowData).split\n",
    "\n",
    "\n",
    "rowData = [r.strip('\\n') for r in rowData]\n",
    "clean_rowData = str(rowData).split('\\n')\n",
    "# clean_rowData\n",
    "\n",
    "\n",
    "# print(rowData)\n",
    "# print()\n",
    "# rowData = [r.strip('\\n') for r in rowData]\n",
    "# print()\n",
    "# print(rowData)\n",
    "# rowData = [r.strip('\\n\\n') for r in rowData]\n",
    "# print()\n",
    "# print(rowData)\n",
    "\n"
   ]
  },
  {
   "cell_type": "code",
   "execution_count": null,
   "metadata": {},
   "outputs": [],
   "source": []
  }
 ],
 "metadata": {
  "language_info": {
   "codemirror_mode": {
    "name": "ipython",
    "version": 3
   },
   "file_extension": ".py",
   "mimetype": "text/x-python",
   "name": "python",
   "nbconvert_exporter": "python",
   "pygments_lexer": "ipython3",
   "version": "3.8.3-final"
  },
  "orig_nbformat": 2,
  "kernelspec": {
   "name": "python38332bit1ca6974803c94f2bba027d3d2f5a92c6",
   "display_name": "Python 3.8.3 32-bit"
  }
 },
 "nbformat": 4,
 "nbformat_minor": 2
}