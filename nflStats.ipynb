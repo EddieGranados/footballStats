{
 "cells": [
  {
   "cell_type": "code",
   "execution_count": 1,
   "metadata": {},
   "outputs": [],
   "source": [
    "import requests\n",
    "import urllib.request\n",
    "import time\n",
    "from bs4 import BeautifulSoup\n",
    "import pandas as pd\n",
    "import csv"
   ]
  },
  {
   "cell_type": "code",
   "execution_count": 2,
   "metadata": {},
   "outputs": [],
   "source": [
    "url = 'https://www.giants.com/team/stats/'\n",
    "response = requests.get(url)"
   ]
  },
  {
   "cell_type": "code",
   "execution_count": 3,
   "metadata": {},
   "outputs": [
    {
     "output_type": "stream",
     "name": "stdout",
     "text": "Response: 200 https://www.giants.com/team/stats/\n"
    }
   ],
   "source": [
    "print(\"Response:\", response.status_code,response.url) #200 means it went through\n"
   ]
  },
  {
   "cell_type": "code",
   "execution_count": 4,
   "metadata": {
    "tags": [
     "outputPrepend"
    ]
   },
   "outputs": [
    {
     "output_type": "stream",
     "name": "stdout",
     "text": "pan>\n           <span>\n            187\n           </span>\n           <span>\n            35\n           </span>\n          </div>\n          <div class=\"nfl-o-team-h2h-stats__label\">\n           <span class=\"nfl-o-team-h2h-stats__label--full\">\n            FIRST DOWNS\n           </span>\n           <span class=\"nfl-o-team-h2h-stats__label--short\">\n            1ST DOWNS\n           </span>\n           <span class=\"nfl-o-team-h2h-stats__label--first-child nfl-o-team-h2h-stats__label--child\">\n            Rushing\n           </span>\n           <span class=\"nfl-o-team-h2h-stats__label--child\">\n            Passing\n           </span>\n           <span class=\"nfl-o-team-h2h-stats__label--last-child nfl-o-team-h2h-stats__label--child\">\n            By Penalty\n           </span>\n          </div>\n          <div class=\"nfl-o-team-h2h-stats__value\">\n           <span>\n            100\n           </span>\n           <span>\n            211\n           </span>\n           <span>\n            32\n           </span>\n          </div>\n         </li>\n         <li>\n          <div class=\"nfl-o-team-h2h-stats__value\">\n           79 / 212\n          </div>\n          <div class=\"nfl-o-team-h2h-stats__label\">\n           <span class=\"nfl-o-team-h2h-stats__label--full\">\n            THIRD DOWN CONVERSIONS\n           </span>\n           <span class=\"nfl-o-team-h2h-stats__label--short\">\n            3RD DOWN CONVERSIONS\n           </span>\n          </div>\n          <div class=\"nfl-o-team-h2h-stats__value\">\n           86 / 216\n          </div>\n         </li>\n         <li>\n          <div class=\"nfl-o-team-h2h-stats__value\">\n           14 / 31\n          </div>\n          <div class=\"nfl-o-team-h2h-stats__label\">\n           <span class=\"nfl-o-team-h2h-stats__label--full\">\n            FOURTH DOWN CONVERSIONS\n           </span>\n           <span class=\"nfl-o-team-h2h-stats__label--short\">\n            4TH DOWN CONVERSIONS\n           </span>\n          </div>\n          <div class=\"nfl-o-team-h2h-stats__value\">\n           8 / 14\n          </div>\n         </li>\n         <li>\n          <div class=\"nfl-o-team-h2h-stats__value\">\n           5416\n          </div>\n          <div class=\"nfl-o-team-h2h-stats__label\">\n           <span>\n            TOTAL OFFENSIVE YARDS\n           </span>\n          </div>\n          <div class=\"nfl-o-team-h2h-stats__value\">\n           6037\n          </div>\n         </li>\n         <li>\n          <div class=\"nfl-o-team-h2h-stats__value\">\n           <span>\n            1012\n           </span>\n           <span>\n            5.4\n           </span>\n          </div>\n          <div class=\"nfl-o-team-h2h-stats__label\">\n           <span>\n            OFFENSE\n           </span>\n           <span class=\"nfl-o-team-h2h-stats__label--first-child nfl-o-team-h2h-stats__label--child\">\n            Plays\n           </span>\n           <span class=\"nfl-o-team-h2h-stats__label--last-child nfl-o-team-h2h-stats__label--child\">\n            Average Yards\n           </span>\n          </div>\n          <div class=\"nfl-o-team-h2h-stats__value\">\n           <span>\n            1061\n           </span>\n           <span>\n            5.7\n           </span>\n          </div>\n         </li>\n         <li>\n          <div class=\"nfl-o-team-h2h-stats__value\">\n           1685\n          </div>\n          <div class=\"nfl-o-team-h2h-stats__label\">\n           <span>\n            TOTAL RUSHING YARDS\n           </span>\n          </div>\n          <div class=\"nfl-o-team-h2h-stats__value\">\n           1812\n          </div>\n         </li>\n         <li>\n          <div class=\"nfl-o-team-h2h-stats__value\">\n           <span>\n            362\n           </span>\n           <span>\n            4.7\n           </span>\n          </div>\n          <div class=\"nfl-o-team-h2h-stats__label\">\n           <span>\n            RUSHING\n           </span>\n           <span class=\"nfl-o-team-h2h-stats__label--first-child nfl-o-team-h2h-stats__label--child\">\n            Plays\n           </span>\n           <span class=\"nfl-o-team-h2h-stats__label--last-child nfl-o-team-h2h-stats__label--child\">\n            Average Yards\n           </span>\n          </div>\n          <div class=\"nfl-o-team-h2h-stats__value\">\n           <span>\n            469\n           </span>\n           <span>\n            3.9\n           </span>\n          </div>\n         </li>\n         <li>\n          <div class=\"nfl-o-team-h2h-stats__value\">\n           3731\n          </div>\n          <div class=\"nfl-o-team-h2h-stats__label\">\n           <span>\n            TOTAL PASSING YARDS\n           </span>\n          </div>\n          <div class=\"nfl-o-team-h2h-stats__value\">\n           4225\n          </div>\n         </li>\n         <li>\n          <div class=\"nfl-o-team-h2h-stats__value\">\n           <span>\n            376\n           </span>\n           <span>\n            607\n           </span>\n           <span>\n            17\n           </span>\n           <span>\n            6.7\n           </span>\n          </div>\n          <div class=\"nfl-o-team-h2h-stats__label\">\n           <span>\n            PASSING\n           </span>\n           <span class=\"nfl-o-team-h2h-stats__label--first-child nfl-o-team-h2h-stats__label--full nfl-o-team-h2h-stats__label--child\">\n            Comp\n           </span>\n           <span class=\"nfl-o-team-h2h-stats__label--first-child nfl-o-team-h2h-stats__label--short nfl-o-team-h2h-stats__label--child\">\n            Completions\n           </span>\n           <span class=\"nfl-o-team-h2h-stats__label--full nfl-o-team-h2h-stats__label--child\">\n            Att\n           </span>\n           <span class=\"nfl-o-team-h2h-stats__label--short nfl-o-team-h2h-stats__label--child\">\n            Attempts\n           </span>\n           <span class=\"nfl-o-team-h2h-stats__label--full nfl-o-team-h2h-stats__label--child\">\n            Int\n           </span>\n           <span class=\"nfl-o-team-h2h-stats__label--short nfl-o-team-h2h-stats__label--child\">\n            Interceptions\n           </span>\n           <span class=\"nfl-o-team-h2h-stats__label--last-child nfl-o-team-h2h-stats__label--full nfl-o-team-h2h-stats__label--child\">\n            Avg\n           </span>\n           <span class=\"nfl-o-team-h2h-stats__label--last-child nfl-o-team-h2h-stats__label--short nfl-o-team-h2h-stats__label--child\">\n            Average\n           </span>\n          </div>\n          <div class=\"nfl-o-team-h2h-stats__value\">\n           <span>\n            369\n           </span>\n           <span>\n            556\n           </span>\n           <span>\n            10\n           </span>\n           <span>\n            8.0\n           </span>\n          </div>\n         </li>\n         <li>\n          <div class=\"nfl-o-team-h2h-stats__value\">\n           36\n          </div>\n          <div class=\"nfl-o-team-h2h-stats__label\">\n           <span>\n            SACKS\n           </span>\n          </div>\n          <div class=\"nfl-o-team-h2h-stats__value\">\n           43\n          </div>\n         </li>\n         <li>\n          <div class=\"nfl-o-team-h2h-stats__value\">\n           12 / 17\n          </div>\n          <div class=\"nfl-o-team-h2h-stats__label\">\n           <span>\n            FIELD GOALS\n           </span>\n          </div>\n          <div class=\"nfl-o-team-h2h-stats__value\">\n           25 / 32\n          </div>\n         </li>\n         <li>\n          <div class=\"nfl-o-team-h2h-stats__value\">\n           44\n          </div>\n          <div class=\"nfl-o-team-h2h-stats__label\">\n           <span>\n            TOUCHDOWNS\n           </span>\n          </div>\n          <div class=\"nfl-o-team-h2h-stats__value\">\n           54\n          </div>\n         </li>\n         <li>\n          <div class=\"nfl-o-team-h2h-stats__value\">\n           <span>\n            11\n           </span>\n           <span>\n            30\n           </span>\n           <span>\n            0\n           </span>\n           <span>\n            3\n           </span>\n          </div>\n          <div class=\"nfl-o-team-h2h-stats__label\">\n           <span>\n            TOUCHDOWNS\n           </span>\n           <span class=\"nfl-o-team-h2h-stats__label--first-child nfl-o-team-h2h-stats__label--child\">\n            Rushing\n           </span>\n           <span class=\"nfl-o-team-h2h-stats__label--child\">\n            Passing\n           </span>\n           <span class=\"nfl-o-team-h2h-stats__label--child\">\n            Returns\n           </span>\n           <span class=\"nfl-o-team-h2h-stats__label--last-child nfl-o-team-h2h-stats__label--child\">\n            Defensive\n           </span>\n          </div>\n          <div class=\"nfl-o-team-h2h-stats__value\">\n           <span>\n            19\n           </span>\n           <span>\n            30\n           </span>\n           <span>\n            0\n           </span>\n           <span>\n            5\n           </span>\n          </div>\n         </li>\n         <li>\n          <div class=\"nfl-o-team-h2h-stats__value\">\n           28:43\n          </div>\n          <div class=\"nfl-o-team-h2h-stats__label\">\n           <span class=\"nfl-o-team-h2h-stats__label--full\">\n            AVERAGE TIME OF POSSESSION\n           </span>\n           <span class=\"nfl-o-team-h2h-stats__label--short\">\n            AVG TIME OF POSSESSION\n           </span>\n          </div>\n          <div class=\"nfl-o-team-h2h-stats__value\">\n           31:56\n          </div>\n         </li>\n         <li>\n          <div class=\"nfl-o-team-h2h-stats__value\">\n           -17\n          </div>\n          <div class=\"nfl-o-team-h2h-stats__label\">\n           <span>\n            TURNOVER RATIO\n           </span>\n          </div>\n          <div class=\"nfl-o-team-h2h-stats__value\">\n          </div>\n         </li>\n        </ul>\n       </div>\n      </div>\n     </div>\n    </section>\n   </div>\n   <div class=\"d3-l-col__col-12\">\n    <section class=\"d3-l-grid--outer d3-l-section-row d3-o-leader-stats-tray\">\n     <div class=\"d3-l-grid--inner\">\n      <div class=\"d3-l-col__col-12\">\n       <h4 class=\"d3-o-section-sub-title\">\n        Top Defense\n       </h4>\n      </div>\n      <div class=\"d3-l-col__col-12\">\n       <div class=\"d3-o-leader-stats-tray--carousel owl-carousel d3-o-carousel d3-o-carousel--arrows-inside\" data-require=\"modules/statsLeader\">\n        <div class=\"d3-o-object\">\n         <div class=\"d3-o-object__header\">\n          <p>\n           Tackles\n          </p>\n         </div>\n         <table class=\"d3-o-table d3-o-table--row-striping d3-o-table--leader-stats\">\n          <tbody>\n           <tr>\n            <td>\n             <a href=\"/team/players-roster/antoine-bethea/\">\n              <figure class=\"d3-o-media-object__figure\">\n               <picture is-lazy=\"/t_lazy\">\n                <!--[if IE 9]><video style=\"display: none; \"><![endif]-->\n                <source media=\"(min-width:1024px)\" srcset=\"https://static.clubs.nfl.com/image/private/t_thumb_squared/t_lazy/f_auto/giants/xnxzvskckfvav4ivvlkf 1x, https://static.clubs.nfl.com/image/private/t_thumb_squared_2x/t_lazy/f_auto/giants/xnxzvskckfvav4ivvlkf 2x, https://static.clubs.nfl.com/image/private/t_thumb_squared_3x/t_lazy/f_auto/giants/xnxzvskckfvav4ivvlkf\"/>\n                <source media=\"(min-width:768px)\" srcset=\"https://static.clubs.nfl.com/image/private/t_thumb_squared/t_lazy/f_auto/giants/xnxzvskckfvav4ivvlkf 1x, https://static.clubs.nfl.com/image/private/t_thumb_squared_2x/t_lazy/f_auto/giants/xnxzvskckfvav4ivvlkf 2x, https://static.clubs.nfl.com/image/private/t_thumb_squared_3x/t_lazy/f_auto/giants/xnxzvskckfvav4ivvlkf\"/>\n                <source srcset=\"https://static.clubs.nfl.com/image/private/t_thumb_squared/t_lazy/f_auto/giants/xnxzvskckfvav4ivvlkf 1x, https://static.clubs.nfl.com/image/private/t_thumb_squared_2x/t_lazy/f_auto/giants/xnxzvskckfvav4ivvlkf 2x, https://static.clubs.nfl.com/image/private/t_thumb_squared_3x/t_lazy/f_auto/giants/xnxzvskckfvav4ivvlkf\"/>\n                <!--[if IE 9]></video><![endif]-->\n                <img alt=\"This is a 2018 photo of Nicolas Becton  of the New York Giants NFL football team. This image reflects the New York Giants active roster as of June 11, 2018 when this image was taken. (AP Photo)\" class=\"img-responsive\" src=\"https://static.clubs.nfl.com/image/private/t_thumb_squared/t_lazy/f_auto/giants/xnxzvskckfvav4ivvlkf\"/>\n               </picture>\n              </figure>\n              <span class=\"d3-o-player-stats__player-name\">\n               Antoine Bethea\n              </span>\n             </a>\n            </td>\n            <td>\n             <a href=\"/team/players-roster/antoine-bethea/\">\n              81\n             </a>\n            </td>\n           </tr>\n           <tr>\n            <td>\n             <a href=\"/team/players-roster/david-mayo/\">\n              <span class=\"d3-o-player-stats__player-name\">\n               David Mayo\n              </span>\n             </a>\n            </td>\n            <td>\n             <a href=\"/team/players-roster/david-mayo/\">\n              52\n             </a>\n            </td>\n           </tr>\n           <tr>\n            <td>\n             <a href=\"/team/players-roster/jabrill-peppers/\">\n              <span class=\"d3-o-player-stats__player-name\">\n               Jabrill Peppers\n              </span>\n             </a>\n            </td>\n            <td>\n             <a href=\"/team/players-roster/jabrill-peppers/\">\n              51\n             </a>\n            </td>\n           </tr>\n          </tbody>\n         </table>\n        </div>\n        <div class=\"d3-o-object\">\n         <div class=\"d3-o-object__header\">\n          <p>\n           Sacks\n          </p>\n         </div>\n         <table class=\"d3-o-table d3-o-table--row-striping d3-o-table--leader-stats\">\n          <tbody>\n           <tr>\n            <td>\n             <a href=\"/team/players-roster/markus-golden/\">\n              <figure class=\"d3-o-media-object__figure\">\n               <picture is-lazy=\"/t_lazy\">\n                <!--[if IE 9]><video style=\"display: none; \"><![endif]-->\n                <source media=\"(min-width:1024px)\" srcset=\"https://static.clubs.nfl.com/image/private/t_thumb_squared/t_lazy/f_auto/giants/xugcokc7t95q6nvjl3zz 1x, https://static.clubs.nfl.com/image/private/t_thumb_squared_2x/t_lazy/f_auto/giants/xugcokc7t95q6nvjl3zz 2x, https://static.clubs.nfl.com/image/private/t_thumb_squared_3x/t_lazy/f_auto/giants/xugcokc7t95q6nvjl3zz\"/>\n                <source media=\"(min-width:768px)\" srcset=\"https://static.clubs.nfl.com/image/private/t_thumb_squared/t_lazy/f_auto/giants/xugcokc7t95q6nvjl3zz 1x, https://static.clubs.nfl.com/image/private/t_thumb_squared_2x/t_lazy/f_auto/giants/xugcokc7t95q6nvjl3zz 2x, https://static.clubs.nfl.com/image/private/t_thumb_squared_3x/t_lazy/f_auto/giants/xugcokc7t95q6nvjl3zz\"/>\n                <source srcset=\"https://static.clubs.nfl.com/image/private/t_thumb_squared/t_lazy/f_auto/giants/xugcokc7t95q6nvjl3zz 1x, https://static.clubs.nfl.com/image/private/t_thumb_squared_2x/t_lazy/f_auto/giants/xugcokc7t95q6nvjl3zz 2x, https://static.clubs.nfl.com/image/private/t_thumb_squared_3x/t_lazy/f_auto/giants/xugcokc7t95q6nvjl3zz\"/>\n                <!--[if IE 9]></video><![endif]-->\n                <img alt=\"Markus Golden\" class=\"img-responsive\" src=\"https://static.clubs.nfl.com/image/private/t_thumb_squared/t_lazy/f_auto/giants/xugcokc7t95q6nvjl3zz\"/>\n               </picture>\n              </figure>\n              <span class=\"d3-o-player-stats__player-name\">\n               Markus Golden\n              </span>\n             </a>\n            </td>\n            <td>\n             <a href=\"/team/players-roster/markus-golden/\">\n              10\n             </a>\n            </td>\n           </tr>\n           <tr>\n            <td>\n             <a href=\"/team/players-roster/lorenzo-carter/\">\n              <span class=\"d3-o-player-stats__player-name\">\n               Lorenzo Carter\n              </span>\n             </a>\n            </td>\n            <td>\n             <a href=\"/team/players-roster/lorenzo-carter/\">\n              4.5\n             </a>\n            </td>\n           </tr>\n           <tr>\n            <td>\n             <a href=\"/team/players-roster/oshane-ximines/\">\n              <span class=\"d3-o-player-stats__player-name\">\n               Oshane Ximines\n              </span>\n             </a>\n            </td>\n            <td>\n             <a href=\"/team/players-roster/oshane-ximines/\">\n              4.5\n             </a>\n            </td>\n           </tr>\n          </tbody>\n         </table>\n        </div>\n        <div class=\"d3-o-object\">\n         <div class=\"d3-o-object__header\">\n          <p>\n           Interceptions\n          </p>\n         </div>\n         <table class=\"d3-o-table d3-o-table--row-striping d3-o-table--leader-stats\">\n          <tbody>\n           <tr>\n            <td>\n             <a href=\"/team/players-roster/ryan-connelly/\">\n              <figure class=\"d3-o-media-object__figure\">\n               <picture is-lazy=\"/t_lazy\">\n                <!--[if IE 9]><video style=\"display: none; \"><![endif]-->\n                <source media=\"(min-width:1024px)\" srcset=\"https://static.clubs.nfl.com/image/private/t_thumb_squared/t_lazy/f_auto/giants/wfzj6pj1du3iwd7ru3zd 1x, https://static.clubs.nfl.com/image/private/t_thumb_squared_2x/t_lazy/f_auto/giants/wfzj6pj1du3iwd7ru3zd 2x, https://static.clubs.nfl.com/image/private/t_thumb_squared_3x/t_lazy/f_auto/giants/wfzj6pj1du3iwd7ru3zd\"/>\n                <source media=\"(min-width:768px)\" srcset=\"https://static.clubs.nfl.com/image/private/t_thumb_squared/t_lazy/f_auto/giants/wfzj6pj1du3iwd7ru3zd 1x, https://static.clubs.nfl.com/image/private/t_thumb_squared_2x/t_lazy/f_auto/giants/wfzj6pj1du3iwd7ru3zd 2x, https://static.clubs.nfl.com/image/private/t_thumb_squared_3x/t_lazy/f_auto/giants/wfzj6pj1du3iwd7ru3zd\"/>\n                <source srcset=\"https://static.clubs.nfl.com/image/private/t_thumb_squared/t_lazy/f_auto/giants/wfzj6pj1du3iwd7ru3zd 1x, https://static.clubs.nfl.com/image/private/t_thumb_squared_2x/t_lazy/f_auto/giants/wfzj6pj1du3iwd7ru3zd 2x, https://static.clubs.nfl.com/image/private/t_thumb_squared_3x/t_lazy/f_auto/giants/wfzj6pj1du3iwd7ru3zd\"/>\n                <!--[if IE 9]></video><![endif]-->\n                <img alt=\"Ryan Connelly\" class=\"img-responsive\" src=\"https://static.clubs.nfl.com/image/private/t_thumb_squared/t_lazy/f_auto/giants/wfzj6pj1du3iwd7ru3zd\"/>\n               </picture>\n              </figure>\n              <span class=\"d3-o-player-stats__player-name\">\n               Ryan Connelly\n              </span>\n             </a>\n            </td>\n            <td>\n             <a href=\"/team/players-roster/ryan-connelly/\">\n              2\n             </a>\n            </td>\n           </tr>\n           <tr>\n            <td>\n             <a href=\"/team/players-roster/antoine-bethea/\">\n              <span class=\"d3-o-player-stats__player-name\">\n               Antoine Bethea\n              </span>\n             </a>\n            </td>\n            <td>\n             <a href=\"/team/players-roster/antoine-bethea/\">\n              1\n             </a>\n            </td>\n           </tr>\n           <tr>\n            <td>\n             <a href=\"/team/players-roster/julian-love/\">\n              <span class=\"d3-o-player-stats__player-name\">\n               Julian Love\n              </span>\n             </a>\n            </td>\n            <td>\n             <a href=\"/team/players-roster/julian-love/\">\n              1\n             </a>\n            </td>\n           </tr>\n          </tbody>\n         </table>\n        </div>\n       </div>\n      </div>\n     </div>\n    </section>\n   </div>\n  </div>\n </section>\n <section class=\"d3-l-grid--outer d3-l-adv-row\">\n  <h2 class=\"d3-o-section-title\">\n   Advertising\n  </h2>\n  <div class=\"d3-l-grid--inner\">\n   <script>\n   </script>\n   <div class=\"d3-o-adv-block\" data-id=\"adv_inpage_1\" id=\"adv_inpage_1\">\n   </div>\n   <script>\n   </script>\n  </div>\n </section>\n <section class=\"d3-l-grid--outer d3-l-adv-row\">\n  <h2 class=\"d3-o-section-title\">\n   Advertising\n  </h2>\n  <div class=\"d3-l-grid--inner\">\n   <script>\n   </script>\n   <div class=\"d3-o-adv-block\" data-id=\"adv_club\" id=\"adv_club\">\n   </div>\n   <script>\n   </script>\n  </div>\n </section>\n</main>\n\n"
    }
   ],
   "source": [
    "giants_stats = BeautifulSoup(response.text,'html.parser')\n",
    "giants_stats_body = giants_stats.body\n",
    "nfl_div = giants_stats_body.find_all('div')\n",
    "giants_stats_body_main_content = giants_stats_body.find(id=\"main-content\")\n",
    "print(giants_stats_body_main_content.prettify())"
   ]
  },
  {
   "cell_type": "code",
   "execution_count": 5,
   "metadata": {},
   "outputs": [
    {
     "output_type": "stream",
     "name": "stdout",
     "text": "<div class=\"nfl-o-teamstats\">\n <h3 class=\"nfl-o-teamstats__title\">\n  Passing\n </h3>\n <div class=\"d3-o-table--horizontal-scroll\">\n  <table aria-hidden=\"true\" class=\"d3-o-table d3-o-table--row-striping d3-o-table--sortable {sortlist: [[1,1], [2,1]], sortinitialorder: 'desc'}\" data-require='\"' modules=\"\" tablesortable&quot;=\"\">\n   <thead>\n    <tr>\n     <th>\n      Player\n     </th>\n     <th scope=\"col\">\n      ATT\n     </th>\n     <th scope=\"col\">\n      COMP\n     </th>\n     <th scope=\"col\">\n      YDS\n     </th>\n     <th scope=\"col\">\n      COMP%\n     </th>\n     <th scope=\"col\">\n      YDS/ATT\n     </th>\n     <th scope=\"col\">\n      TD\n     </th>\n     <th scope=\"col\">\n      TD%\n     </th>\n     <th scope=\"col\">\n      INT\n     </th>\n     <th scope=\"col\">\n      INT%\n     </th>\n     <th scope=\"col\">\n      LONG\n     </th>\n     <th scope=\"col\">\n      SCK\n     </th>\n     <th scope=\"col\">\n      SCK/LOST\n     </th>\n     <th scope=\"col\">\n      RATE\n     </th>\n    </tr>\n   </thead>\n   <tbody>\n    <tr aria-hidden=\"false\" class=\"\" data-loadmore=\"Passing\">\n     <td class=\"sorter-lastname\">\n      <div class=\"d3-o-media-object\">\n       <a href=\"/team/players-roster/alex-tanney/\">\n        <figure class=\"d3-o-media-object__figure\">\n         <picture is-lazy=\"/t_lazy\">\n          <!--[if IE 9]><video style=\"display: none; \"><![endif]-->\n          <source media=\"(min-width:1024px)\" srcset=\"https://static.clubs.nfl.com/image/private/t_thumb_squared/t_lazy/f_auto/giants/vfw4txeghdoarfkpottn 1x, https://static.clubs.nfl.com/image/private/t_thumb_squared_2x/t_lazy/f_auto/giants/vfw4txeghdoarfkpottn 2x, https://static.clubs.nfl.com/image/private/t_thumb_squared_3x/t_lazy/f_auto/giants/vfw4txeghdoarfkpottn\"/>\n          <source media=\"(min-width:768px)\" srcset=\"https://static.clubs.nfl.com/image/private/t_thumb_squared/t_lazy/f_auto/giants/vfw4txeghdoarfkpottn 1x, https://static.clubs.nfl.com/image/private/t_thumb_squared_2x/t_lazy/f_auto/giants/vfw4txeghdoarfkpottn 2x, https://static.clubs.nfl.com/image/private/t_thumb_squared_3x/t_lazy/f_auto/giants/vfw4txeghdoarfkpottn\"/>\n          <source srcset=\"https://static.clubs.nfl.com/image/private/t_thumb_squared/t_lazy/f_auto/giants/vfw4txeghdoarfkpottn 1x, https://static.clubs.nfl.com/image/private/t_thumb_squared_2x/t_lazy/f_auto/giants/vfw4txeghdoarfkpottn 2x, https://static.clubs.nfl.com/image/private/t_thumb_squared_3x/t_lazy/f_auto/giants/vfw4txeghdoarfkpottn\"/>\n          <!--[if IE 9]></video><![endif]-->\n          <img alt=\"Alex Tanney\" class=\"img-responsive\" src=\"https://static.clubs.nfl.com/image/private/t_thumb_squared/t_lazy/f_auto/giants/vfw4txeghdoarfkpottn\"/>\n         </picture>\n        </figure>\n       </a>\n       <span class=\"nfl-o-roster__player-name\" data-name=\"Alex Tanney\">\n        <a href=\"/team/players-roster/alex-tanney/\">\n         Alex Tanney\n        </a>\n       </span>\n      </div>\n     </td>\n     <td>\n      1\n     </td>\n     <td>\n      1\n     </td>\n     <td>\n      1\n     </td>\n     <td>\n      100\n     </td>\n     <td>\n      1\n     </td>\n     <td>\n      0\n     </td>\n     <td>\n      0\n     </td>\n     <td>\n      0\n     </td>\n     <td>\n      0\n     </td>\n     <td>\n      1\n     </td>\n     <td>\n      0\n     </td>\n     <td>\n      0\n     </td>\n     <td>\n      79.2\n     </td>\n    </tr>\n    <tr aria-hidden=\"false\" class=\"\" data-loadmore=\"Passing\">\n     <td class=\"sorter-lastname\">\n      <div class=\"d3-o-media-object\">\n       <a href=\"/team/players-roster/eli-manning/\">\n        <figure class=\"d3-o-media-object__figure\">\n         <picture is-lazy=\"/t_lazy\">\n          <!--[if IE 9]><video style=\"display: none; \"><![endif]-->\n          <source media=\"(min-width:1024px)\" srcset=\"https://static.clubs.nfl.com/image/private/t_thumb_squared/t_lazy/f_auto/giants/m5k30elwh61pyrym3zt4 1x, https://static.clubs.nfl.com/image/private/t_thumb_squared_2x/t_lazy/f_auto/giants/m5k30elwh61pyrym3zt4 2x, https://static.clubs.nfl.com/image/private/t_thumb_squared_3x/t_lazy/f_auto/giants/m5k30elwh61pyrym3zt4\"/>\n          <source media=\"(min-width:768px)\" srcset=\"https://static.clubs.nfl.com/image/private/t_thumb_squared/t_lazy/f_auto/giants/m5k30elwh61pyrym3zt4 1x, https://static.clubs.nfl.com/image/private/t_thumb_squared_2x/t_lazy/f_auto/giants/m5k30elwh61pyrym3zt4 2x, https://static.clubs.nfl.com/image/private/t_thumb_squared_3x/t_lazy/f_auto/giants/m5k30elwh61pyrym3zt4\"/>\n          <source srcset=\"https://static.clubs.nfl.com/image/private/t_thumb_squared/t_lazy/f_auto/giants/m5k30elwh61pyrym3zt4 1x, https://static.clubs.nfl.com/image/private/t_thumb_squared_2x/t_lazy/f_auto/giants/m5k30elwh61pyrym3zt4 2x, https://static.clubs.nfl.com/image/private/t_thumb_squared_3x/t_lazy/f_auto/giants/m5k30elwh61pyrym3zt4\"/>\n          <!--[if IE 9]></video><![endif]-->\n          <img alt=\"This is a 2018 photo of Eli Manning of the New York Giants NFL football team. This image reflects the New York Giants active roster as of June 11, 2018 when this image was taken. (AP Photo)\" class=\"img-responsive\" src=\"https://static.clubs.nfl.com/image/private/t_thumb_squared/t_lazy/f_auto/giants/m5k30elwh61pyrym3zt4\"/>\n         </picture>\n        </figure>\n       </a>\n       <span class=\"nfl-o-roster__player-name\" data-name=\"Eli Manning\">\n        <a href=\"/team/players-roster/eli-manning/\">\n         Eli Manning\n        </a>\n       </span>\n      </div>\n     </td>\n     <td>\n      147\n     </td>\n     <td>\n      91\n     </td>\n     <td>\n      1042\n     </td>\n     <td>\n      61.9\n     </td>\n     <td>\n      7.1\n     </td>\n     <td>\n      6\n     </td>\n     <td>\n      4.08\n     </td>\n     <td>\n      5\n     </td>\n     <td>\n      3.4\n     </td>\n     <td>\n      55\n     </td>\n     <td>\n      5\n     </td>\n     <td>\n      44\n     </td>\n     <td>\n      82.6\n     </td>\n    </tr>\n    <tr aria-hidden=\"false\" class=\"\" data-loadmore=\"Passing\">\n     <td class=\"sorter-lastname\">\n      <div class=\"d3-o-media-object\">\n       <a href=\"/team/players-roster/daniel-jones/\">\n        <figure class=\"d3-o-media-object__figure\">\n         <picture is-lazy=\"/t_lazy\">\n          <!--[if IE 9]><video style=\"display: none; \"><![endif]-->\n          <source media=\"(min-width:1024px)\" srcset=\"https://static.clubs.nfl.com/image/private/t_thumb_squared/t_lazy/f_auto/giants/v59trxgtfmixz7zt128a 1x, https://static.clubs.nfl.com/image/private/t_thumb_squared_2x/t_lazy/f_auto/giants/v59trxgtfmixz7zt128a 2x, https://static.clubs.nfl.com/image/private/t_thumb_squared_3x/t_lazy/f_auto/giants/v59trxgtfmixz7zt128a\"/>\n          <source media=\"(min-width:768px)\" srcset=\"https://static.clubs.nfl.com/image/private/t_thumb_squared/t_lazy/f_auto/giants/v59trxgtfmixz7zt128a 1x, https://static.clubs.nfl.com/image/private/t_thumb_squared_2x/t_lazy/f_auto/giants/v59trxgtfmixz7zt128a 2x, https://static.clubs.nfl.com/image/private/t_thumb_squared_3x/t_lazy/f_auto/giants/v59trxgtfmixz7zt128a\"/>\n          <source srcset=\"https://static.clubs.nfl.com/image/private/t_thumb_squared/t_lazy/f_auto/giants/v59trxgtfmixz7zt128a 1x, https://static.clubs.nfl.com/image/private/t_thumb_squared_2x/t_lazy/f_auto/giants/v59trxgtfmixz7zt128a 2x, https://static.clubs.nfl.com/image/private/t_thumb_squared_3x/t_lazy/f_auto/giants/v59trxgtfmixz7zt128a\"/>\n          <!--[if IE 9]></video><![endif]-->\n          <img alt=\"Daniel Jones\" class=\"img-responsive\" src=\"https://static.clubs.nfl.com/image/private/t_thumb_squared/t_lazy/f_auto/giants/v59trxgtfmixz7zt128a\"/>\n         </picture>\n        </figure>\n       </a>\n       <span class=\"nfl-o-roster__player-name\" data-name=\"Daniel Jones\">\n        <a href=\"/team/players-roster/daniel-jones/\">\n         Daniel Jones\n        </a>\n       </span>\n      </div>\n     </td>\n     <td>\n      459\n     </td>\n     <td>\n      284\n     </td>\n     <td>\n      3027\n     </td>\n     <td>\n      61.87\n     </td>\n     <td>\n      6.6\n     </td>\n     <td>\n      24\n     </td>\n     <td>\n      5.23\n     </td>\n     <td>\n      12\n     </td>\n     <td>\n      2.61\n     </td>\n     <td>\n      75\n     </td>\n     <td>\n      38\n     </td>\n     <td>\n      295\n     </td>\n     <td>\n      87.7\n     </td>\n    </tr>\n   </tbody>\n  </table>\n </div>\n</div>\n\n"
    }
   ],
   "source": [
    "offensive_passing_table = giants_stats_body_main_content.find(\"div\", {\"class\": \"nfl-o-teamstats\"})\n",
    "print(offensive_passing_table.prettify())"
   ]
  },
  {
   "cell_type": "code",
   "execution_count": 6,
   "metadata": {},
   "outputs": [
    {
     "output_type": "stream",
     "name": "stdout",
     "text": "<thead>\n<tr>\n<th>Player</th>\n<th scope=\"col\">ATT</th>\n<th scope=\"col\">COMP</th>\n<th scope=\"col\">YDS</th>\n<th scope=\"col\">COMP%</th>\n<th scope=\"col\">YDS/ATT</th>\n<th scope=\"col\">TD</th>\n<th scope=\"col\">TD%</th>\n<th scope=\"col\">INT</th>\n<th scope=\"col\">INT%</th>\n<th scope=\"col\">LONG</th>\n<th scope=\"col\">SCK</th>\n<th scope=\"col\">SCK/LOST</th>\n<th scope=\"col\">RATE</th>\n</tr>\n</thead>\n"
    }
   ],
   "source": [
    "headers = offensive_passing_table.find('thead')\n",
    "print(headers)"
   ]
  },
  {
   "cell_type": "code",
   "execution_count": 7,
   "metadata": {},
   "outputs": [
    {
     "output_type": "stream",
     "name": "stdout",
     "text": "[<th>Player</th>, <th scope=\"col\">ATT</th>, <th scope=\"col\">COMP</th>, <th scope=\"col\">YDS</th>, <th scope=\"col\">COMP%</th>, <th scope=\"col\">YDS/ATT</th>, <th scope=\"col\">TD</th>, <th scope=\"col\">TD%</th>, <th scope=\"col\">INT</th>, <th scope=\"col\">INT%</th>, <th scope=\"col\">LONG</th>, <th scope=\"col\">SCK</th>, <th scope=\"col\">SCK/LOST</th>, <th scope=\"col\">RATE</th>]\n"
    }
   ],
   "source": [
    "clean_headers = headers.find_all('th')\n",
    "print(clean_headers)"
   ]
  },
  {
   "cell_type": "code",
   "execution_count": 8,
   "metadata": {},
   "outputs": [
    {
     "output_type": "stream",
     "name": "stdout",
     "text": "['Player', 'ATT', 'COMP', 'YDS', 'COMP%', 'YDS/ATT', 'TD', 'TD%', 'INT', 'INT%', 'LONG', 'SCK', 'SCK/LOST', 'RATE']\n"
    }
   ],
   "source": [
    "columnHeader = []\n",
    "\n",
    "for c in clean_headers:\n",
    "    columnHeader.append(c.text)\n",
    "\n",
    "print(columnHeader)"
   ]
  },
  {
   "cell_type": "code",
   "execution_count": 92,
   "metadata": {},
   "outputs": [],
   "source": [
    "clean_offensive_passing_stats = offensive_passing_table.find_all('tr',{\"data-loadmore\":\"Passing\"})\n",
    "\n",
    "# clean_offensive_passing_stats\n",
    "\n",
    "# rowTable = clean_offensive_passing_stats.find('td')"
   ]
  },
  {
   "cell_type": "code",
   "execution_count": 132,
   "metadata": {},
   "outputs": [],
   "source": [
    "rowData = []\n",
    "\n",
    "\n",
    "for r in clean_offensive_passing_stats:\n",
    "    rowData.append(r.text)\n",
    "    # str(rowData).split\n",
    "\n",
    "\n",
    "rowData = [r.strip('\\n') for r in rowData]\n",
    "clean_rowData = str(rowData).split('\\n')\n",
    "# clean_rowData\n",
    "\n",
    "\n",
    "# print(rowData)\n",
    "# print()\n",
    "# rowData = [r.strip('\\n') for r in rowData]\n",
    "# print()\n",
    "# print(rowData)\n",
    "# rowData = [r.strip('\\n\\n') for r in rowData]\n",
    "# print()\n",
    "# print(rowData)\n",
    "\n"
   ]
  },
  {
   "cell_type": "code",
   "execution_count": null,
   "metadata": {},
   "outputs": [],
   "source": []
  }
 ],
 "metadata": {
  "language_info": {
   "codemirror_mode": {
    "name": "ipython",
    "version": 3
   },
   "file_extension": ".py",
   "mimetype": "text/x-python",
   "name": "python",
   "nbconvert_exporter": "python",
   "pygments_lexer": "ipython3",
   "version": "3.8.3-final"
  },
  "orig_nbformat": 2,
  "kernelspec": {
   "name": "python38332bit1ca6974803c94f2bba027d3d2f5a92c6",
   "display_name": "Python 3.8.3 32-bit"
  }
 },
 "nbformat": 4,
 "nbformat_minor": 2
}